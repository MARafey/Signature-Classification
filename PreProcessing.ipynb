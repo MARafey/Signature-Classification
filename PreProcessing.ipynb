{
 "cells": [
  {
   "cell_type": "code",
   "execution_count": 44,
   "metadata": {},
   "outputs": [],
   "source": [
    "import cv2\n",
    "import numpy as np\n",
    "import os\n",
    "import matplotlib.pyplot as plt"
   ]
  },
  {
   "cell_type": "code",
   "execution_count": 45,
   "metadata": {},
   "outputs": [],
   "source": [
    "DataPath = 'Data'"
   ]
  },
  {
   "cell_type": "code",
   "execution_count": 46,
   "metadata": {},
   "outputs": [],
   "source": [
    "OuptutPath = 'Output'\n",
    "os.makedirs(OuptutPath, exist_ok=True)"
   ]
  },
  {
   "cell_type": "code",
   "execution_count": 47,
   "metadata": {},
   "outputs": [],
   "source": [
    "# Loading all the images from input directory\n",
    "images = [cv2.imread(os.path.join(DataPath, f)) for f in os.listdir(DataPath) if f.endswith('.jpg')]"
   ]
  },
  {
   "cell_type": "code",
   "execution_count": 48,
   "metadata": {},
   "outputs": [],
   "source": [
    "depth_to_print = 3\n",
    "curvature_threshold = 0.02\n",
    "Curve_comparison = 4\n",
    "# find contour of the image up to 4 level hierarchy\n",
    "for i, img in enumerate(images):\n",
    "    gray = cv2.cvtColor(img, cv2.COLOR_BGR2GRAY)\n",
    "    ret, thresh = cv2.threshold(gray, 127, 255, 0)\n",
    "    contours, hierarchy = cv2.findContours(thresh, cv2.RETR_TREE, cv2.CHAIN_APPROX_SIMPLE)\n",
    "\n",
    "    img_contour = img\n",
    "\n",
    "    for j in range(len(contours)):\n",
    "        level = 0\n",
    "        parent = hierarchy[0][j][3]\n",
    "        \n",
    "        # Traverse up the hierarchy to calculate the depth of the contour\n",
    "        while parent != -1:\n",
    "            level += 1\n",
    "            parent = hierarchy[0][parent][3]\n",
    "        \n",
    "        # If contour is deeper than allowed depth, ignore it\n",
    "        if level > depth_to_print:\n",
    "            continue\n",
    "        \n",
    "        # Approximate the contour to see if it's curved\n",
    "        epsilon = curvature_threshold * cv2.arcLength(contours[j], True)\n",
    "        approx = cv2.approxPolyDP(contours[j], epsilon, True)\n",
    "        \n",
    "        # Ignore highly curved contours (if the approximation has too many points)\n",
    "        if len(approx) > Curve_comparison:  \n",
    "            continue\n",
    "        \n",
    "        # Draw the contour if it passes the depth and curvature checks\n",
    "        cv2.drawContours(img_contour, [contours[j]], -1, (0, 0, 255), 3)\n",
    "\n",
    "    cv2.imwrite(os.path.join(OuptutPath, f'output_{i}.jpg'), img_contour)"
   ]
  },
  {
   "cell_type": "code",
   "execution_count": 49,
   "metadata": {},
   "outputs": [],
   "source": [
    "# Display the images\n",
    "for i, img in enumerate(images):\n",
    "    plt.figure(figsize=(10, 5))\n",
    "    plt.subplot(1, 2, 1)\n",
    "    plt.imshow(cv2.cvtColor(img, cv2.COLOR_BGR2RGB))\n",
    "    plt.axis('off')"
   ]
  },
  {
   "cell_type": "code",
   "execution_count": null,
   "metadata": {},
   "outputs": [],
   "source": [
    "# aplying Segmentation on the images to seperate the objects"
   ]
  }
 ],
 "metadata": {
  "kernelspec": {
   "display_name": "cloudspace",
   "language": "python",
   "name": "python3"
  },
  "language_info": {
   "codemirror_mode": {
    "name": "ipython",
    "version": 3
   },
   "file_extension": ".py",
   "mimetype": "text/x-python",
   "name": "python",
   "nbconvert_exporter": "python",
   "pygments_lexer": "ipython3",
   "version": "3.10.10"
  }
 },
 "nbformat": 4,
 "nbformat_minor": 2
}
