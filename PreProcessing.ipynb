{
 "cells": [
  {
   "cell_type": "code",
   "execution_count": 9,
   "metadata": {},
   "outputs": [],
   "source": [
    "import cv2\n",
    "import numpy as np\n",
    "import os"
   ]
  },
  {
   "cell_type": "code",
   "execution_count": 10,
   "metadata": {},
   "outputs": [],
   "source": [
    "\n",
    "def align_images(input_directory, output_directory, reference_image_path):\n",
    "    # Ensure the output directory exists\n",
    "    os.makedirs(output_directory, exist_ok=True)\n",
    "\n",
    "    # Read the reference image\n",
    "    ref_image = cv2.imread(reference_image_path)\n",
    "    if ref_image is None:\n",
    "        print(\"Error: Reference image not found.\")\n",
    "        return\n",
    "\n",
    "    # Convert reference image to grayscale\n",
    "    ref_gray = cv2.cvtColor(ref_image, cv2.COLOR_BGR2GRAY)\n",
    "    \n",
    "    # Initialize ORB detector\n",
    "    orb = cv2.ORB_create()\n",
    "\n",
    "    # Find keypoints and descriptors of the reference image\n",
    "    ref_keypoints, ref_descriptors = orb.detectAndCompute(ref_gray, None)\n",
    "\n",
    "    # Iterate through each image in the input directory\n",
    "    for image_name in os.listdir(input_directory):\n",
    "        image_path = os.path.join(input_directory, image_name)\n",
    "\n",
    "        # Read the image\n",
    "        image = cv2.imread(image_path)\n",
    "        if image is None:\n",
    "            continue\n",
    "\n",
    "        # Convert image to grayscale\n",
    "        gray_image = cv2.cvtColor(image, cv2.COLOR_BGR2GRAY)\n",
    "\n",
    "        # Find keypoints and descriptors of the current image\n",
    "        keypoints, descriptors = orb.detectAndCompute(gray_image, None)\n",
    "\n",
    "        # Create a BFMatcher object\n",
    "        matcher = cv2.BFMatcher(cv2.NORM_HAMMING, crossCheck=True)\n",
    "\n",
    "        # Match descriptors\n",
    "        matches = matcher.match(ref_descriptors, descriptors)\n",
    "        \n",
    "        # Sort matches based on their distance\n",
    "        matches = sorted(matches, key=lambda x: x.distance)\n",
    "\n",
    "        # Draw matches (optional for visualization)\n",
    "        matched_image = cv2.drawMatches(ref_image, ref_keypoints, image, keypoints, matches[:10], None, flags=cv2.DrawMatchesFlags_NOT_DRAW_SINGLE_POINTS)\n",
    "\n",
    "        # Get the corresponding points\n",
    "        src_pts = np.float32([ref_keypoints[m.queryIdx].pt for m in matches]).reshape(-1, 1, 2)\n",
    "        dst_pts = np.float32([keypoints[m.trainIdx].pt for m in matches]).reshape(-1, 1, 2)\n",
    "\n",
    "        # Find the homography matrix\n",
    "        M, _ = cv2.findHomography(dst_pts, src_pts, cv2.RANSAC)\n",
    "\n",
    "        # Align the image\n",
    "        aligned_image = cv2.warpPerspective(image, M, (ref_image.shape[1], ref_image.shape[0]))\n",
    "\n",
    "        # Save the aligned image\n",
    "        output_path = os.path.join(output_directory, image_name)\n",
    "        cv2.imwrite(output_path, aligned_image)\n",
    "\n",
    "        # Optional: Save matched image for debugging\n",
    "        matched_output_path = os.path.join(output_directory, f\"matched_{image_name}\")\n",
    "        cv2.imwrite(matched_output_path, matched_image)"
   ]
  },
  {
   "cell_type": "code",
   "execution_count": 11,
   "metadata": {},
   "outputs": [],
   "source": [
    "input_directory = 'Data'  # Replace with your input directory\n",
    "output_directory = 'Output'  # Replace with your output directory\n",
    "reference_image_path = 'Reference.jpg'  # Replace with your reference image path\n",
    "align_images(input_directory, output_directory, reference_image_path)"
   ]
  }
 ],
 "metadata": {
  "kernelspec": {
   "display_name": "cloudspace",
   "language": "python",
   "name": "python3"
  },
  "language_info": {
   "codemirror_mode": {
    "name": "ipython",
    "version": 3
   },
   "file_extension": ".py",
   "mimetype": "text/x-python",
   "name": "python",
   "nbconvert_exporter": "python",
   "pygments_lexer": "ipython3",
   "version": "3.10.10"
  }
 },
 "nbformat": 4,
 "nbformat_minor": 2
}
